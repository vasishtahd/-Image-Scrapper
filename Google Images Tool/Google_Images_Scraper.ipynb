{
  "nbformat": 4,
  "nbformat_minor": 0,
  "metadata": {
    "colab": {
      "name": "Google Images Scraper.ipynb",
      "provenance": [],
      "authorship_tag": "ABX9TyNiaw8kAG3IP0vR2AgIwqEW",
      "include_colab_link": true
    },
    "kernelspec": {
      "name": "python3",
      "display_name": "Python 3"
    }
  },
  "cells": [
    {
      "cell_type": "markdown",
      "metadata": {
        "id": "view-in-github",
        "colab_type": "text"
      },
      "source": [
        "<a href=\"https://colab.research.google.com/github/vasishtahd/Image-Scrapper/blob/master/Google_Images_Scraper.ipynb\" target=\"_parent\"><img src=\"https://colab.research.google.com/assets/colab-badge.svg\" alt=\"Open In Colab\"/></a>"
      ]
    },
    {
      "cell_type": "code",
      "metadata": {
        "id": "yaBS2FTCDTtH",
        "colab_type": "code",
        "colab": {}
      },
      "source": [
        "# import the necessary packages\n",
        "from imutils import paths\n",
        "import imutils  \n",
        "import argparse\n",
        "import requests\n",
        "import numpy as np\n",
        "import random\n",
        "import cv2\n",
        "import os\n",
        "import matplotlib\n",
        "import pandas as pd    \n",
        "matplotlib.use(\"Agg\")\n",
        "import matplotlib.pyplot as plt\n",
        " \n",
        "from google.colab import drive\n",
        "from google.colab.patches import cv2_imshow\n",
        "import cv2\n",
        "DATASET_DIR=\"gdrive/My Drive/bonus_image_classification/images/\"\n",
        "drive.mount('/content/gdrive')\n",
        "%cd gdrive/My Drive/bonus_image_classification\n",
        "args={}\n",
        "args[\"urls\"]='urls.txt'\n",
        "args[\"info_output\"]='images/info'\n",
        " \n",
        " "
      ],
      "execution_count": null,
      "outputs": []
    },
    {
      "cell_type": "markdown",
      "metadata": {
        "id": "ArMgahiMhYsR",
        "colab_type": "text"
      },
      "source": [
        "# Image Scarping and Processing"
      ]
    },
    {
      "cell_type": "code",
      "metadata": {
        "id": "bvWG2l65Euru",
        "colab_type": "code",
        "colab": {}
      },
      "source": [
        "def image_download_from_urls(input_dict):\n",
        "        \n",
        "        # grab the list of URLs from the input file, then initialize the\n",
        "        # total number of images downloaded thus far\n",
        "        rows = open(input_dict[\"urls\"]).read().strip().split(\"\\n\")\n",
        "        cnt = 0\n",
        "        # loop the URLs\n",
        "        for url in rows:\n",
        "          try:\n",
        "            # Using requests to download images \n",
        "            r = requests.get(url, timeout=65)\n",
        "             \n",
        "            p = os.path.sep.join([input_dict[\"info_output\"], \"{}.jpg\".format(str(cnt).zfill(8))])\n",
        "            f = open(p, \"wb\")\n",
        "            f.write(r.content)\n",
        "            f.close()         \n",
        "            print(\"Downloading File: {}\".format(p))\n",
        "            cnt += 1\n",
        "          # handle if any exceptions are thrown during the download process\n",
        "          except:\n",
        "            print(\"Error downloading {}...skipping\".format(p))\n",
        "          # Pruning Invalid Images\n",
        "        for imagePath in paths.list_images(input_dict[\"info_output\"]):         \n",
        "          flag = False\n",
        "          try:\n",
        "            image = cv2.imread(imagePath)\n",
        "            if image is None:\n",
        "              flag = True\n",
        "          except:\n",
        "            print(\"Except\")\n",
        "            flag = True\n",
        "\n",
        "          if flag:\n",
        "            print(\"Deleting {}\".format(imagePath))\n",
        "            os.remove(imagePath)\n"
      ],
      "execution_count": null,
      "outputs": []
    },
    {
      "cell_type": "markdown",
      "metadata": {
        "id": "yNvNM2LxqLeF",
        "colab_type": "text"
      },
      "source": [
        "# Run to fetch images from Google Image Search"
      ]
    },
    {
      "cell_type": "code",
      "metadata": {
        "id": "aHAKKCIwfnU3",
        "colab_type": "code",
        "colab": {}
      },
      "source": [
        "image_download_from_urls(args)"
      ],
      "execution_count": null,
      "outputs": []
    }
  ]
}